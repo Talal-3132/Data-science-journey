{
  "nbformat": 4,
  "nbformat_minor": 0,
  "metadata": {
    "colab": {
      "provenance": [],
      "collapsed_sections": [
        "Q7t40u8URoco"
      ],
      "authorship_tag": "ABX9TyPftU6lQa87Zcyhj6UBaPF8",
      "include_colab_link": true
    },
    "kernelspec": {
      "name": "python3",
      "display_name": "Python 3"
    },
    "language_info": {
      "name": "python"
    }
  },
  "cells": [
    {
      "cell_type": "markdown",
      "metadata": {
        "id": "view-in-github",
        "colab_type": "text"
      },
      "source": [
        "<a href=\"https://colab.research.google.com/github/Talal-3132/Data-science-journey/blob/main/lists.ipynb\" target=\"_parent\"><img src=\"https://colab.research.google.com/assets/colab-badge.svg\" alt=\"Open In Colab\"/></a>"
      ]
    },
    {
      "cell_type": "markdown",
      "source": [
        "# list act as dynamic arrays\n",
        "you can store multiple items on list.when you work on multiple things generally same type you can used list for example 1000 movies reviews.if you can store moive reviews in different varialable and if someone say convert these review into lower then its will bi headic to work on different variable so we easyly used lists\n"
      ],
      "metadata": {
        "id": "uCUu0hgK5ceQ"
      }
    },
    {
      "cell_type": "markdown",
      "source": [
        "#dynamic arrays\n",
        "start with the fix siz and if size is fixed then double the size of prevous array"
      ],
      "metadata": {
        "id": "zmofxzWNBI6S"
      }
    },
    {
      "cell_type": "markdown",
      "source": [
        "#Arrays vs list\n",
        "Fixed vs dynamic size\n",
        "\n",
        "Fixed vs hetrogenous (flexible data type)\n",
        "\n",
        "Faster vs slower(contigous memory vs non contigous memory allocation)\n",
        "\n",
        "space lower vs higher\n",
        "\n",
        "hetrogenous we can used refrentrail array we cannot directly value but we store addreases so we can store any addreas like integer , char , float etc\n",
        "\n",
        "\n",
        "\n"
      ],
      "metadata": {
        "id": "YnK6C9_97G-z"
      }
    },
    {
      "cell_type": "markdown",
      "source": [
        "#indexing and slicing in list"
      ],
      "metadata": {
        "id": "Vcke1hC15jLL"
      }
    },
    {
      "cell_type": "markdown",
      "source": [
        "#Characterstics of a List\n",
        "- Ordered\n",
        "- Changeble/Mutable\n",
        "- Hetrogeneous\n",
        "- Can have duplicates\n",
        "- are dynamic\n",
        "- can be nested\n",
        "- items can be accessed\n",
        "- can contain any kind of objects in python (you can store any kind of object in list)"
      ],
      "metadata": {
        "id": "chqKndQMDYoG"
      }
    },
    {
      "cell_type": "markdown",
      "source": [
        "# creating a list"
      ],
      "metadata": {
        "id": "qO_PAMJmECQ5"
      }
    },
    {
      "cell_type": "code",
      "source": [
        "#empty\n",
        "l = []\n",
        "print(l)\n",
        "#2d\n",
        "l = [1,2,3,4,[5,6]]\n",
        "print(l)\n",
        "#3d\n",
        "l = [[[2,3],[4,5,6],[2,34,5,5]]]\n",
        "print(l)\n",
        "#heterogenous\n",
        "print([1,True,'hello'])\n",
        "#type conversion\n",
        "print(list['hello'])"
      ],
      "metadata": {
        "colab": {
          "base_uri": "https://localhost:8080/"
        },
        "id": "jPagC2OzEEtm",
        "outputId": "ff97de54-386a-475f-9c43-a6ce633b0496"
      },
      "execution_count": null,
      "outputs": [
        {
          "output_type": "stream",
          "name": "stdout",
          "text": [
            "[]\n",
            "[1, 2, 3, 4, [5, 6]]\n",
            "[[[2, 3], [4, 5, 6], [2, 34, 5, 5]]]\n",
            "[1, True, 'hello']\n",
            "list['hello']\n"
          ]
        }
      ]
    },
    {
      "cell_type": "markdown",
      "source": [
        "#Accessing Items from a List(Two methods indexing or slicing)"
      ],
      "metadata": {
        "id": "AKwQ5y9BFLJo"
      }
    },
    {
      "cell_type": "code",
      "source": [
        "#indexing (negative or positive jab specific number ko print karna ho)\n",
        "L = [1,2,34,[4,[5,6,7]]]\n",
        "print(L[-1][-2])\n",
        "print(L[2])\n",
        "print(L[-1][-1][-2])\n",
        "#slicing(gap ho yah tab)\n",
        "L = [1,23,4,5,6,[3,5],[5,8,9],[6,4,6]]\n",
        "print(L[7:8:])"
      ],
      "metadata": {
        "colab": {
          "base_uri": "https://localhost:8080/"
        },
        "id": "6zxTg4CPFOM1",
        "outputId": "6eb3b594-b215-4cb1-dc27-c3fb53a50f57"
      },
      "execution_count": null,
      "outputs": [
        {
          "output_type": "stream",
          "name": "stdout",
          "text": [
            "4\n",
            "34\n",
            "6\n",
            "[[6, 4, 6]]\n"
          ]
        }
      ]
    },
    {
      "cell_type": "markdown",
      "source": [
        "#Adding Items to a List(append, extend or insert)\n",
        "append ak item ko add karny liya Extended multiple item ko or insert middle ma kahi insert karny ka liya"
      ],
      "metadata": {
        "id": "wIzCiivcI5QR"
      }
    },
    {
      "cell_type": "code",
      "source": [
        "#append\n",
        "L = [1,23,4,5,6,7,8,8,9,0]\n",
        "L.append([1])\n",
        "print(L)\n",
        "#extend\n",
        "L = [1,2,3,4,5,6,7,8,8,9,10]\n",
        "L.extend([2,3,4,5])\n",
        "print(L)\n",
        "L = [1,2,3,4,5,6,7,8,8,9,10]\n",
        "L.extend([1,2,3,4,4])\n",
        "print(L)\n",
        "#insert\n",
        "L = [1,2,3,4,5,6,7,8,8,9]\n",
        "L.insert(5,[100,1000])\n",
        "print(L)"
      ],
      "metadata": {
        "id": "OAuwfwPqI8ue",
        "colab": {
          "base_uri": "https://localhost:8080/"
        },
        "outputId": "202d15c5-8709-46d2-9f9e-7164eac3358b"
      },
      "execution_count": null,
      "outputs": [
        {
          "output_type": "stream",
          "name": "stdout",
          "text": [
            "[1, 23, 4, 5, 6, 7, 8, 8, 9, 0, [1]]\n",
            "[1, 2, 3, 4, 5, 6, 7, 8, 8, 9, 10, 2, 3, 4, 5]\n",
            "[1, 2, 3, 4, 5, 6, 7, 8, 8, 9, 10, 1, 2, 3, 4, 4]\n",
            "[1, 2, 3, 4, 5, [100, 1000], 6, 7, 8, 8, 9]\n"
          ]
        }
      ]
    },
    {
      "cell_type": "markdown",
      "source": [
        "# Editing items in a List\n",
        "indexing and slicing"
      ],
      "metadata": {
        "id": "ijvXIRT-ExsE"
      }
    },
    {
      "cell_type": "code",
      "source": [
        "L = [12,4,5,6,7,True]\n",
        "L[-1] = False\n",
        "print(L)\n",
        "#multiple items change in a string use slicing\n",
        "L = [1,2,3,4,5,6]\n",
        "L[1:4] = [200,300,400]\n",
        "print(L)"
      ],
      "metadata": {
        "colab": {
          "base_uri": "https://localhost:8080/"
        },
        "id": "bl16aWjGE2bQ",
        "outputId": "ed52bb41-df50-40f9-cb0b-47b41ee33318"
      },
      "execution_count": null,
      "outputs": [
        {
          "output_type": "stream",
          "name": "stdout",
          "text": [
            "[12, 4, 5, 6, 7, False]\n",
            "[1, 200, 300, 400, 5, 6]\n"
          ]
        }
      ]
    },
    {
      "cell_type": "markdown",
      "source": [
        "# Deleting items from a List\n",
        "#del\n",
        "#remove\n",
        "remove you dont where the number the number you wnt to delete so remove function can bi used removed by value not index position is defined\n",
        "(its can remove first match value)\n",
        "#pop\n",
        "pop remove the last value but if you pass index then its remove index item\n",
        "#clear\n",
        "remove the list items(empty list)"
      ],
      "metadata": {
        "id": "7ODxtewVGN6D"
      }
    },
    {
      "cell_type": "code",
      "source": [
        "#del\n",
        "L =[1,3,4,5,6]\n",
        "print(L)\n",
        "#indexing\n",
        "del L[-1]\n",
        "print(L)\n",
        "#slicing\n",
        "P = [1,2,3,4,5,6]\n",
        "del P[1:4]\n",
        "print(P)\n",
        "#remove\n",
        "J = [1,2,3,4,5,6,5,7]\n",
        "J.remove(5)\n",
        "print(J)\n"
      ],
      "metadata": {
        "colab": {
          "base_uri": "https://localhost:8080/"
        },
        "id": "-kCyFW2hGSTG",
        "outputId": "f9aa22ab-059e-4be6-98b7-74a323fe66bb"
      },
      "execution_count": null,
      "outputs": [
        {
          "output_type": "stream",
          "name": "stdout",
          "text": [
            "[1, 3, 4, 5, 6]\n",
            "[1, 3, 4, 5]\n",
            "[1, 5, 6]\n",
            "[1, 2, 3, 4, 6, 5, 7]\n"
          ]
        }
      ]
    },
    {
      "cell_type": "code",
      "source": [
        "#pop\n",
        "L =[1,2,3,4,5]\n",
        "L.pop(3)\n",
        "print(L)"
      ],
      "metadata": {
        "colab": {
          "base_uri": "https://localhost:8080/"
        },
        "id": "15IcccSNJC9s",
        "outputId": "0f1b252f-a210-4f36-cfc3-d5a6c1cf87dc"
      },
      "execution_count": null,
      "outputs": [
        {
          "output_type": "stream",
          "name": "stdout",
          "text": [
            "[1, 2, 3, 5]\n"
          ]
        }
      ]
    },
    {
      "cell_type": "code",
      "source": [
        "#clear\n",
        "L = [1,2,4,5,6,7]\n",
        "L.clear()\n",
        "print(L)"
      ],
      "metadata": {
        "colab": {
          "base_uri": "https://localhost:8080/"
        },
        "id": "frKCBHf5JLcw",
        "outputId": "e1e25315-374f-4d56-bf0f-5ca85239e01b"
      },
      "execution_count": null,
      "outputs": [
        {
          "output_type": "stream",
          "name": "stdout",
          "text": [
            "[]\n"
          ]
        }
      ]
    },
    {
      "cell_type": "markdown",
      "source": [
        "#Operations on Lists\n",
        "Arithmetic(+ ,*)\n",
        "\n",
        "Membership(in , not in)\n",
        "\n",
        "Loop"
      ],
      "metadata": {
        "id": "nECiKA50JmUJ"
      }
    },
    {
      "cell_type": "code",
      "source": [
        "#arithmetic\n",
        "L1 =[1,2,3,4,5,6]\n",
        "L2 = [7,8,9]\n",
        "print(L1 + L2)\n",
        "print(L1 * 3)\n"
      ],
      "metadata": {
        "colab": {
          "base_uri": "https://localhost:8080/"
        },
        "id": "GMGQ3g3_JruP",
        "outputId": "e9a723aa-ea34-466d-fd80-477bd218f6c7"
      },
      "execution_count": null,
      "outputs": [
        {
          "output_type": "stream",
          "name": "stdout",
          "text": [
            "[1, 2, 3, 4, 5, 6, 7, 8, 9]\n",
            "[1, 2, 3, 4, 5, 6, 1, 2, 3, 4, 5, 6, 1, 2, 3, 4, 5, 6]\n"
          ]
        }
      ]
    },
    {
      "cell_type": "code",
      "source": [
        "#membership operator\n",
        "L1 =[1,2,3,4,5,6]\n",
        "L2 = [7,8,9,[3,4]]\n",
        "print(7 not in L1)\n",
        "print([3,4] in L2)"
      ],
      "metadata": {
        "colab": {
          "base_uri": "https://localhost:8080/"
        },
        "id": "WKBhMamtKqG1",
        "outputId": "4c36e81f-4b00-4f17-bdd6-134a04b17b59"
      },
      "execution_count": null,
      "outputs": [
        {
          "output_type": "stream",
          "name": "stdout",
          "text": [
            "True\n",
            "True\n"
          ]
        }
      ]
    },
    {
      "cell_type": "code",
      "source": [
        "#loop\n",
        "L1 =[1,2,3,4,5,6]\n",
        "L2 = [7,8,9,[3,4]]\n",
        "l = [[[2,3],[4,5,6],[2,34,5,5]]]\n",
        "for i in l:\n",
        "  print(i)"
      ],
      "metadata": {
        "colab": {
          "base_uri": "https://localhost:8080/"
        },
        "id": "xX1HaD-1LRW5",
        "outputId": "32f2c742-7e79-4987-e932-acee4468e310"
      },
      "execution_count": null,
      "outputs": [
        {
          "output_type": "stream",
          "name": "stdout",
          "text": [
            "[[2, 3], [4, 5, 6], [2, 34, 5, 5]]\n"
          ]
        }
      ]
    },
    {
      "cell_type": "markdown",
      "source": [
        "#List Functions\n",
        "# len/min/max/sorted\n",
        "# count\n",
        "# index\n",
        "# reverse"
      ],
      "metadata": {
        "id": "3N3pGqbSMzG-"
      }
    },
    {
      "cell_type": "code",
      "source": [
        "L = [1,2,3,4,5,6]\n",
        "print(len(L))\n",
        "L = [1,2,3,4,5,6]\n",
        "print(min(L))\n",
        "L = [1,2,3,4,5,6]\n",
        "print(max(L))\n",
        "L = [1,2,3,4,5,6,4.5]\n",
        "print(sorted(L, reverse = False))\n"
      ],
      "metadata": {
        "colab": {
          "base_uri": "https://localhost:8080/"
        },
        "id": "Rhz5Ia8xNJdc",
        "outputId": "8d37939d-a690-4b2e-baf2-80e8bf5fb4a7"
      },
      "execution_count": null,
      "outputs": [
        {
          "output_type": "stream",
          "name": "stdout",
          "text": [
            "6\n",
            "1\n",
            "6\n",
            "[1, 2, 3, 4, 4.5, 5, 6]\n"
          ]
        }
      ]
    },
    {
      "cell_type": "code",
      "source": [
        "#count\n",
        "L = [1,1,3,4]\n",
        "print(L.count(1))\n",
        "#index\n",
        "L = [1,3,4,5,3,1]\n",
        "L.index(4)\n",
        "#reverse permantly reverse\n",
        "L = [1,3,4,5,3,1]\n",
        "L.reverse()\n",
        "print(L)"
      ],
      "metadata": {
        "colab": {
          "base_uri": "https://localhost:8080/"
        },
        "id": "QcF105yxNvb1",
        "outputId": "41817596-5a53-427b-887f-c99ff82668ce"
      },
      "execution_count": null,
      "outputs": [
        {
          "output_type": "stream",
          "name": "stdout",
          "text": [
            "2\n",
            "[1, 3, 5, 4, 3, 1]\n"
          ]
        }
      ]
    },
    {
      "cell_type": "code",
      "source": [
        "#sort(permantly sorted ) vs sorted\n",
        "L = [2,1,3,5,4]\n",
        "print(sorted(L))\n",
        "print(L)\n",
        "#sort\n",
        "L = [2,1,3,5,4]\n",
        "L.sort()\n",
        "print(L)\n"
      ],
      "metadata": {
        "colab": {
          "base_uri": "https://localhost:8080/"
        },
        "id": "7xF9S4gaPChh",
        "outputId": "2ead3c3f-6f80-44a1-febc-ca3158aad29f"
      },
      "execution_count": null,
      "outputs": [
        {
          "output_type": "stream",
          "name": "stdout",
          "text": [
            "[1, 2, 3, 4, 5]\n",
            "[2, 1, 3, 5, 4]\n",
            "[1, 2, 3, 4, 5]\n"
          ]
        }
      ]
    },
    {
      "cell_type": "code",
      "source": [
        "#copy\n",
        "l =[1,2,3,4,5,6,7]\n",
        "print(l)\n",
        "print(id(l))\n",
        "l1 = l.copy()\n",
        "print(l1)\n",
        "print(id(l1))"
      ],
      "metadata": {
        "colab": {
          "base_uri": "https://localhost:8080/"
        },
        "id": "tHLw3pbiRFsN",
        "outputId": "ec25ba75-fb90-48ea-c10a-a1ad313e7010"
      },
      "execution_count": null,
      "outputs": [
        {
          "output_type": "stream",
          "name": "stdout",
          "text": [
            "[1, 2, 3, 4, 5, 6, 7]\n",
            "136593440569536\n",
            "[1, 2, 3, 4, 5, 6, 7]\n",
            "136593438010624\n"
          ]
        }
      ]
    },
    {
      "cell_type": "markdown",
      "source": [
        "#Deep copy vs shallow copy\n",
        "Shallow Copy:\n",
        "The outer list is copied, but inner (nested) items share the same memory.\n",
        "So, changing a nested element in one list affects the other\n",
        "\n",
        "Deep Copy:\n",
        "Both the outer and inner elements are fully copied.\n",
        "So, changing any item in one list does not affect the other — they're completely separate in memory\n",
        "\n",
        "In 1D lists:\n",
        "Shallow copy and deep copy behave the same, because there are no nested objects.\n",
        "Both create separate lists, so changes do not affect each other."
      ],
      "metadata": {
        "id": "Q7t40u8URoco"
      }
    },
    {
      "cell_type": "code",
      "source": [
        "#shalow copy\n",
        "import copy\n",
        "a = [[1, 2], [3, 4]]\n",
        "b = copy.copy(a)\n",
        "a[1][0] = 100\n",
        "print(a)\n",
        "print(b)\n",
        "#deep copy\n",
        "x = [[1, 2], [3, 4]]\n",
        "y = copy.deepcopy(x)\n",
        "x[1][0] = 100\n",
        "print(x)\n",
        "print(y)\n",
        "\n"
      ],
      "metadata": {
        "colab": {
          "base_uri": "https://localhost:8080/"
        },
        "id": "MuRF9VGNZBPp",
        "outputId": "8a22cb64-df0f-4244-87b6-8ec6a8dd315b"
      },
      "execution_count": null,
      "outputs": [
        {
          "output_type": "stream",
          "name": "stdout",
          "text": [
            "[[1, 2], [100, 4]]\n",
            "[[1, 2], [100, 4]]\n",
            "[[1, 2], [100, 4]]\n",
            "[[1, 2], [3, 4]]\n"
          ]
        }
      ]
    },
    {
      "cell_type": "markdown",
      "source": [
        "## List Comprehension\n",
        "\n",
        "List Comprehension provides a concise way of creating lists.\n",
        "\n",
        "newlist = [expression for item in iterable if condition == True]![image.png](data:image/png;base64,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)\n",
        "\n",
        "Advantages of List Comprehension\n",
        "- More time-efficient and space-efficient than loops.\n",
        "- Require fewer lines of code.\n",
        "- Transforms iterative statement into a formula."
      ],
      "metadata": {
        "id": "v6xUAkVUZJHL"
      }
    },
    {
      "cell_type": "code",
      "source": [
        "# Add 1 to 10 numbers to a list\n",
        "x= []\n",
        "for i in range(1,11):\n",
        "  x.append(i)\n",
        "\n",
        "print(x)"
      ],
      "metadata": {
        "colab": {
          "base_uri": "https://localhost:8080/"
        },
        "id": "caOh-wz1mBGv",
        "outputId": "bd52d18a-b4ad-4e3d-a113-89e1b63b1226"
      },
      "execution_count": null,
      "outputs": [
        {
          "output_type": "stream",
          "name": "stdout",
          "text": [
            "[1, 2, 3, 4, 5, 6, 7, 8, 9, 10]\n"
          ]
        }
      ]
    },
    {
      "cell_type": "code",
      "source": [
        "L = [i for i in range(1,11)]\n",
        "print(L)"
      ],
      "metadata": {
        "colab": {
          "base_uri": "https://localhost:8080/"
        },
        "id": "C0Ke3jhjmfSY",
        "outputId": "8f243f29-ee6b-4475-bda9-635e6952b8f6"
      },
      "execution_count": null,
      "outputs": [
        {
          "output_type": "stream",
          "name": "stdout",
          "text": [
            "[1, 2, 3, 4, 5, 6, 7, 8, 9, 10]\n"
          ]
        }
      ]
    },
    {
      "cell_type": "code",
      "source": [
        "# scalar multiplication on a vector\n",
        "s = [9,5,3,7,5]\n",
        "v = 3\n",
        "\n",
        "[v*i for i in s  ]"
      ],
      "metadata": {
        "colab": {
          "base_uri": "https://localhost:8080/"
        },
        "id": "mvrD7lRonclk",
        "outputId": "af90f7c3-0b56-4a1f-9549-4a4bf2b489cb"
      },
      "execution_count": null,
      "outputs": [
        {
          "output_type": "execute_result",
          "data": {
            "text/plain": [
              "[27, 15, 9, 21, 15]"
            ]
          },
          "metadata": {},
          "execution_count": 108
        }
      ]
    },
    {
      "cell_type": "code",
      "source": [
        "# Print all numbers divisible by 5 in the range of 1 to 50\n",
        "[i for i in range(1,51) if i%5 ==0]"
      ],
      "metadata": {
        "colab": {
          "base_uri": "https://localhost:8080/"
        },
        "id": "f0SakE7K8Iwi",
        "outputId": "5fe2c8de-ee98-47c9-c662-4e601afaa5cc"
      },
      "execution_count": null,
      "outputs": [
        {
          "output_type": "execute_result",
          "data": {
            "text/plain": [
              "[5, 10, 15, 20, 25, 30, 35, 40, 45, 50]"
            ]
          },
          "metadata": {},
          "execution_count": 1
        }
      ]
    },
    {
      "cell_type": "code",
      "source": [
        "# find languages which start with letter p\n",
        "languages = ['java','python','php','c','javascript']\n",
        "\n",
        "[language for language in languages if language.startswith('p')]\n",
        "\n"
      ],
      "metadata": {
        "colab": {
          "base_uri": "https://localhost:8080/"
        },
        "id": "4WeKd0BJ8c4x",
        "outputId": "acd79a2c-9714-4600-9bf6-66ab88720fed"
      },
      "execution_count": null,
      "outputs": [
        {
          "output_type": "execute_result",
          "data": {
            "text/plain": [
              "['python', 'php']"
            ]
          },
          "metadata": {},
          "execution_count": 2
        }
      ]
    },
    {
      "cell_type": "code",
      "source": [
        "# Nested if with List Comprehension\n",
        "basket = ['apple','guava','cherry','banana']\n",
        "my_fruits = ['apple','kiwi','grapes','banana']\n",
        "\n",
        "# add new list from my_fruits and items if the fruit exists in basket and also starts with 'a'\n",
        "[fruit for fruit in my_fruits if fruit in basket if fruit.startswith('a')]"
      ],
      "metadata": {
        "colab": {
          "base_uri": "https://localhost:8080/"
        },
        "id": "Z0RngMqU8zU2",
        "outputId": "d16d882c-ce93-4dc7-b7b7-8972533a604c"
      },
      "execution_count": null,
      "outputs": [
        {
          "output_type": "execute_result",
          "data": {
            "text/plain": [
              "['apple']"
            ]
          },
          "metadata": {},
          "execution_count": 4
        }
      ]
    },
    {
      "cell_type": "code",
      "source": [
        "# Print a (3,3) matrix using list comprehension -> Nested List comprehension\n",
        "[[i*j for i in range(1,4)] for j in (1,4)]"
      ],
      "metadata": {
        "colab": {
          "base_uri": "https://localhost:8080/"
        },
        "id": "zRphz19c9aS4",
        "outputId": "e7afb14b-0d3e-45c7-fec7-1ac75518fceb"
      },
      "execution_count": null,
      "outputs": [
        {
          "output_type": "execute_result",
          "data": {
            "text/plain": [
              "[[1, 2, 3], [4, 8, 12]]"
            ]
          },
          "metadata": {},
          "execution_count": 6
        }
      ]
    },
    {
      "cell_type": "code",
      "source": [
        "# cartesian products -> List comprehension on 2 lists together\n",
        "L1 = [1,2,3,4]\n",
        "L2 = [5,6,7,8]\n",
        "[i*j for i in L1 for j in L2]"
      ],
      "metadata": {
        "colab": {
          "base_uri": "https://localhost:8080/"
        },
        "id": "Yb8Xzk3Y97ba",
        "outputId": "d13a37cf-ff6e-40c0-9c34-1726e2bc8ce0"
      },
      "execution_count": null,
      "outputs": [
        {
          "output_type": "execute_result",
          "data": {
            "text/plain": [
              "[5, 6, 7, 8, 10, 12, 14, 16, 15, 18, 21, 24, 20, 24, 28, 32]"
            ]
          },
          "metadata": {},
          "execution_count": 7
        }
      ]
    },
    {
      "cell_type": "markdown",
      "source": [
        "## 2 ways to traverse a list\n",
        "\n",
        "- itemwise\n",
        "- indexwise"
      ],
      "metadata": {
        "id": "av42MB70aHu2"
      }
    },
    {
      "cell_type": "code",
      "source": [
        "# itemwise\n",
        "L = [1,2,3,4,5]\n",
        "for listt in L:\n",
        "  print(listt)"
      ],
      "metadata": {
        "colab": {
          "base_uri": "https://localhost:8080/"
        },
        "id": "aEu3BKzUA92J",
        "outputId": "5abfb7db-a441-4096-d905-3d296f6f5782"
      },
      "execution_count": null,
      "outputs": [
        {
          "output_type": "stream",
          "name": "stdout",
          "text": [
            "1\n",
            "2\n",
            "3\n",
            "4\n",
            "5\n"
          ]
        }
      ]
    },
    {
      "cell_type": "code",
      "source": [
        "# indexwise\n",
        "l = [3,4,7,32,5,6]\n",
        "for i in range(0,len(l)):\n",
        "  print([i])"
      ],
      "metadata": {
        "colab": {
          "base_uri": "https://localhost:8080/"
        },
        "id": "01YHud8IBQ9-",
        "outputId": "ce65ec0c-ff60-417a-bf2a-c9e73fb83df3"
      },
      "execution_count": null,
      "outputs": [
        {
          "output_type": "stream",
          "name": "stdout",
          "text": [
            "[0]\n",
            "[1]\n",
            "[2]\n",
            "[3]\n",
            "[4]\n",
            "[5]\n"
          ]
        }
      ]
    },
    {
      "cell_type": "markdown",
      "source": [
        "## Zip\n",
        "\n",
        "The zip() function returns a zip object, which is an iterator of tuples where the first item in each passed iterator is paired together, and then the second item in each passed iterator are paired together.\n",
        "\n",
        "If the passed iterators have different lengths, the iterator with the least items decides the length of the new iterator."
      ],
      "metadata": {
        "id": "PYBoKZ0I31aN"
      }
    },
    {
      "cell_type": "code",
      "source": [
        "# Write a program to add items of 2 lists indexwise\n",
        "L1 = [1,2,3,4]\n",
        "L2 = [-1,-2,-3,-4]\n",
        "[i+j for i,j in zip(L1,L2)]"
      ],
      "metadata": {
        "colab": {
          "base_uri": "https://localhost:8080/"
        },
        "id": "ITwuM78oCXRO",
        "outputId": "e92c0241-de57-4c0f-bd8c-a78ac8b65819"
      },
      "execution_count": null,
      "outputs": [
        {
          "output_type": "execute_result",
          "data": {
            "text/plain": [
              "[0, 0, 0, 0]"
            ]
          },
          "metadata": {},
          "execution_count": 37
        }
      ]
    },
    {
      "cell_type": "markdown",
      "source": [
        "## Disadvantages of Python Lists\n",
        "\n",
        "- Slow\n",
        "- Risky usage\n",
        "- eats up more memory"
      ],
      "metadata": {
        "id": "bmQWcy0RC9Gm"
      }
    },
    {
      "cell_type": "code",
      "source": [
        "a = [1,2,3]\n",
        "b = a.copy()\n",
        "\n",
        "print(a)\n",
        "print(b)\n",
        "\n",
        "a.append(4)\n",
        "print(a)\n",
        "print(b)\n",
        "\n",
        "# lists are mutable"
      ],
      "metadata": {
        "colab": {
          "base_uri": "https://localhost:8080/"
        },
        "id": "K2mS0qgv9A_P",
        "outputId": "6f56e615-c586-4cdb-edc5-41b05ea129d5"
      },
      "execution_count": null,
      "outputs": [
        {
          "output_type": "stream",
          "name": "stdout",
          "text": [
            "[1, 2, 3]\n",
            "[1, 2, 3]\n",
            "[1, 2, 3, 4]\n",
            "[1, 2, 3]\n"
          ]
        }
      ]
    },
    {
      "cell_type": "markdown",
      "source": [
        "#list practice questions"
      ],
      "metadata": {
        "id": "1gc43341T7F_"
      }
    },
    {
      "cell_type": "code",
      "source": [
        "# Create 2 lists from a given list where\n",
        "# 1st list will contain all the odd numbers from the original list and\n",
        "# the 2nd one will contain all the even numbers\n",
        "\n",
        "L = [1,2,3,4,5,6]\n",
        "\n",
        "Even = [i for i in L if i%2 != 0]\n",
        "odd =  [i for i in L if i%2 == 0]\n",
        "print(Even)\n",
        "print(odd)\n"
      ],
      "metadata": {
        "id": "dNGiQCzMaSKV",
        "colab": {
          "base_uri": "https://localhost:8080/"
        },
        "outputId": "4cef3f72-2a93-4142-f521-5172ae2c853e"
      },
      "execution_count": null,
      "outputs": [
        {
          "output_type": "stream",
          "name": "stdout",
          "text": [
            "[1, 3, 5]\n",
            "[2, 4, 6]\n"
          ]
        }
      ]
    },
    {
      "cell_type": "code",
      "source": [
        "user_input = input(\"Enter the string sperated by commas \")\n",
        "L = user_input.split(' ')\n",
        "print(L)\n"
      ],
      "metadata": {
        "colab": {
          "base_uri": "https://localhost:8080/"
        },
        "id": "i1NnrqUdapD5",
        "outputId": "d30f2808-66f3-4771-9005-9858ce86f020"
      },
      "execution_count": null,
      "outputs": [
        {
          "output_type": "stream",
          "name": "stdout",
          "text": [
            "Enter the string sperated by commas 1 2 3 4 True\n",
            "['1', '2', '3', '4', 'True']\n"
          ]
        }
      ]
    },
    {
      "cell_type": "code",
      "source": [
        "# Write a program to merge 2 list without using the + operator\n",
        "L1 = [1,2,3,4]\n",
        "L2 = [5,6,7,8]\n",
        "\n",
        "L1.extend(L2)\n",
        "print(L1)\n",
        "\n",
        "\n"
      ],
      "metadata": {
        "colab": {
          "base_uri": "https://localhost:8080/"
        },
        "id": "43nyNavUc7Re",
        "outputId": "5d6dbce6-75cb-48bb-b731-aaf30bcb86c6"
      },
      "execution_count": null,
      "outputs": [
        {
          "output_type": "stream",
          "name": "stdout",
          "text": [
            "[1, 2, 3, 4, 5, 6, 7, 8]\n"
          ]
        }
      ]
    },
    {
      "cell_type": "code",
      "source": [
        "# Write a program to replace an item with a different item if found in the list\n",
        "L = [1,2,3,4,5,3]\n",
        "# replace 3 with 300\n",
        "\n",
        "L[2] = 300\n",
        "print(L)"
      ],
      "metadata": {
        "colab": {
          "base_uri": "https://localhost:8080/"
        },
        "id": "AakBWM-HgO3e",
        "outputId": "59484738-77e1-485e-90ff-f90b191f2465"
      },
      "execution_count": null,
      "outputs": [
        {
          "output_type": "stream",
          "name": "stdout",
          "text": [
            "[1, 2, 300, 4, 5, 3]\n"
          ]
        }
      ]
    },
    {
      "cell_type": "code",
      "source": [
        "# Write a program that can convert a 3D list to 1D list\n",
        "L = [[[1, 2], [3, 4]], [[5, 6], [7, 8]]]\n",
        "h = [z for x in L for y in x for z in y]\n",
        "print(h)"
      ],
      "metadata": {
        "colab": {
          "base_uri": "https://localhost:8080/"
        },
        "id": "AXXC1AQyglpr",
        "outputId": "9170981d-35af-4516-eace-9ef690826de7"
      },
      "execution_count": null,
      "outputs": [
        {
          "output_type": "stream",
          "name": "stdout",
          "text": [
            "[1, 2, 3, 4, 5, 6, 7, 8]\n"
          ]
        }
      ]
    },
    {
      "cell_type": "code",
      "source": [
        "# Write a program to remove duplicate items from a list\n",
        "\n",
        "L = [1,2,1,2,3,4,5,3,4]\n",
        "seen = []\n",
        "Remove_duplicates = [ item for item in L if item not in seen and not seen.append(item)]\n",
        "print(Remove_duplicates)\n",
        "\n",
        "for item in L:\n",
        "  if item not in seen:\n",
        "    seen.append(item)\n",
        "\n",
        "print(seen)\n"
      ],
      "metadata": {
        "colab": {
          "base_uri": "https://localhost:8080/"
        },
        "id": "joDAdt-Ii92W",
        "outputId": "24c31d02-d3f6-4ce9-8bc3-4f609aea3cb4"
      },
      "execution_count": null,
      "outputs": [
        {
          "output_type": "stream",
          "name": "stdout",
          "text": [
            "[1, 2, 3, 4, 5]\n",
            "[1, 2, 3, 4, 5]\n"
          ]
        }
      ]
    },
    {
      "cell_type": "code",
      "source": [
        "# Write a program to check if a list is in ascending order or not\n",
        "L = [1,2,3,4,45,6]\n",
        "\n",
        "if L == sorted(L):\n",
        "  print('The list is ascending')\n",
        "else:\n",
        "  print('the list is not asending order')"
      ],
      "metadata": {
        "colab": {
          "base_uri": "https://localhost:8080/"
        },
        "id": "BQgMxmZRlQkc",
        "outputId": "e726f4cb-809b-4d09-b3db-75021dd4c570"
      },
      "execution_count": null,
      "outputs": [
        {
          "output_type": "stream",
          "name": "stdout",
          "text": [
            "the list is not asending order\n"
          ]
        }
      ]
    }
  ]
}